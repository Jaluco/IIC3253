{
 "cells": [
  {
   "cell_type": "markdown",
   "id": "collaborative-speed",
   "metadata": {},
   "source": [
    "# Pregunta 2\n",
    "\n",
    "## Clase receiver\n",
    "\n",
    "Para implementar esta clase usamos la informacion de clases junto con el \"molde\" que nos entrega el enunciado\n",
    "\n",
    "```\n",
    "class RSAReceiver:\n",
    "    \n",
    "    def __init__(self, bit_len: int) -> None:\n",
    "        pass\n",
    "    \n",
    "    def get_public_key(self) -> bytearray:\n",
    "        pass\n",
    "    \n",
    "    def decrypt(self, ciphertext: bytearray) -> str:\n",
    "        pass\n",
    "```\n",
    "\n",
    "### Número Primo al azar"
   ]
  },
  {
   "cell_type": "markdown",
   "id": "divided-aerospace",
   "metadata": {},
   "source": [
    "Como para generar una llave pública se requiere seguir los pasos de RSA hacen falta algunas funciones auxiliares como por ejemplo: **conseguir un número primo al azar**\n",
    "Para esto se puede usar una función creada en base a lo visto en clases"
   ]
  },
  {
   "cell_type": "code",
   "execution_count": 592,
   "id": "cultural-science",
   "metadata": {},
   "outputs": [],
   "source": [
    "import random\n",
    "import math\n",
    "\n",
    "def _es_potencia(n): # no es lo mas elegante\n",
    "    f = math.log(n) / math.log(2)\n",
    "    if ((f - int(f)) == 0.0):\n",
    "        return True\n",
    "    for x in range(3, 100000, 2):\n",
    "        f = math.log(n) / math.log(x)\n",
    "        if ((f - int(f)) == 0.0):\n",
    "            return True\n",
    "\n",
    "def _test_primalidad(n: int, k:int) -> bool:\n",
    "    if n == 1:\n",
    "        return False\n",
    "    elif n == 2:\n",
    "        return True\n",
    "    elif n%2 == 0:\n",
    "        return False\n",
    "    elif _es_potencia(n):\n",
    "        return False\n",
    "    else:\n",
    "        neg = 0\n",
    "        for i in range(1, k+1):\n",
    "            a = random.randint(2, n-1)\n",
    "            if math.gcd(a,n) > 1:\n",
    "                return False\n",
    "            else:\n",
    "                b = pow(a,(n-1)//2,n)\n",
    "                if b == n-1:\n",
    "                    neg = neg + 1\n",
    "                elif b!=1:\n",
    "                    return False\n",
    "        if neg > 0:\n",
    "            return True\n",
    "        else:\n",
    "            return False"
   ]
  },
  {
   "cell_type": "markdown",
   "id": "smaller-diabetes",
   "metadata": {},
   "source": [
    "Debido a que esto no es perfecto, ya que mi funcion _es_potencia no toma todas las posibles potencias, por lo que tiene sentido usar :\n",
    "```\n",
    "\n",
    "from Crypto.Util import number\n",
    "number.getPrime(n)\n",
    "```\n",
    "donde n es un número de bits"
   ]
  },
  {
   "cell_type": "code",
   "execution_count": 593,
   "id": "strange-advocate",
   "metadata": {},
   "outputs": [
    {
     "data": {
      "text/plain": [
       "8764570060165486689952504683919851099746096356548249807911082950212826843930744567496956959491551045730240522183539566420620352743302376744424536640071164891347895091129416145042627736557010052624168207783282318967215540264908182574311358638780496463169698720168313070326082672472212383937061116629109"
      ]
     },
     "execution_count": 593,
     "metadata": {},
     "output_type": "execute_result"
    }
   ],
   "source": [
    "# from Crypto.Util import number\n",
    "# import time\n",
    "# time.clock = time.time # sin esta linea hay un error por un tema de version de python\n",
    "# number.getPrime(1000)"
   ]
  },
  {
   "cell_type": "code",
   "execution_count": 594,
   "id": "hourly-development",
   "metadata": {},
   "outputs": [
    {
     "data": {
      "text/plain": [
       "True"
      ]
     },
     "execution_count": 594,
     "metadata": {},
     "output_type": "execute_result"
    }
   ],
   "source": [
    "# _test_primalidad(number.getPrime(1000), 20)"
   ]
  },
  {
   "cell_type": "markdown",
   "id": "french-fluid",
   "metadata": {},
   "source": [
    "Si quisiera usar el metodo aleatorio tendria que hacer algo como lo siguiente"
   ]
  },
  {
   "cell_type": "code",
   "execution_count": 595,
   "id": "spread-poison",
   "metadata": {},
   "outputs": [],
   "source": [
    "def _random_big_prime(bit_len):\n",
    "    yes = False\n",
    "    \n",
    "    while not yes:\n",
    "        n = random.getrandbits(bit_len)\n",
    "        if _test_primalidad(n, 20):\n",
    "            yes = True\n",
    "    \n",
    "    return n"
   ]
  },
  {
   "cell_type": "code",
   "execution_count": 596,
   "id": "monthly-suggestion",
   "metadata": {},
   "outputs": [
    {
     "data": {
      "text/plain": [
       "2"
      ]
     },
     "execution_count": 596,
     "metadata": {},
     "output_type": "execute_result"
    }
   ],
   "source": [
    "# _random_big_prime(10)"
   ]
  },
  {
   "cell_type": "markdown",
   "id": "quiet-sending",
   "metadata": {},
   "source": [
    "Bueno, se ve que funciona.\n",
    "\n",
    "### Calcular inverso modular\n",
    "Se puede hacer usando el metodo de euclides, pero desde python 3.8 existe pow, que trabaja justamente con modulos y acepta -1 como potencia, por ejemplo:"
   ]
  },
  {
   "cell_type": "code",
   "execution_count": 597,
   "id": "maritime-lounge",
   "metadata": {},
   "outputs": [
    {
     "data": {
      "text/plain": [
       "17"
      ]
     },
     "execution_count": 597,
     "metadata": {},
     "output_type": "execute_result"
    }
   ],
   "source": [
    "# pow(33, -1, 140)"
   ]
  },
  {
   "cell_type": "markdown",
   "id": "mechanical-generic",
   "metadata": {},
   "source": [
    "Que es justamente el ejemplo que se dio en clases\n",
    "\n",
    "### Generar Coprimo\n",
    "Se usa el ejemplo de las diapositivas"
   ]
  },
  {
   "cell_type": "code",
   "execution_count": 598,
   "id": "vocal-recording",
   "metadata": {},
   "outputs": [],
   "source": [
    "def _gen_primo_relativo(n):\n",
    "    while True:\n",
    "        a = random.randint(0, n)\n",
    "        if math.gcd(a,n)==1:\n",
    "            return a\n",
    "            "
   ]
  },
  {
   "cell_type": "code",
   "execution_count": 599,
   "id": "conservative-waste",
   "metadata": {},
   "outputs": [
    {
     "data": {
      "text/plain": [
       "97"
      ]
     },
     "execution_count": 599,
     "metadata": {},
     "output_type": "execute_result"
    }
   ],
   "source": [
    "# _gen_primo_relativo(100)"
   ]
  },
  {
   "cell_type": "markdown",
   "id": "lasting-interest",
   "metadata": {},
   "source": [
    "### Ahora la definicion de la clase"
   ]
  },
  {
   "cell_type": "code",
   "execution_count": 600,
   "id": "comic-rubber",
   "metadata": {},
   "outputs": [],
   "source": [
    "class RSAReceiver:\n",
    "\n",
    "    def __init__(self, bit_len: int) -> None:\n",
    "        self.bit_len = bit_len\n",
    "        \n",
    "        P = _random_big_prime(self.bit_len)\n",
    "        Q = _random_big_prime(self.bit_len)\n",
    "        \n",
    "        N = P*Q\n",
    "        #print(\"N: \"+str(N))\n",
    "        Phi = (P-1)*(Q-1)\n",
    "        \n",
    "        d = _gen_primo_relativo(Phi)\n",
    "        e = pow(d, -1, Phi)\n",
    "        \n",
    "        #print(\"d: \"+str(d))\n",
    "        #print(\"e: \"+str(e))\n",
    "        \n",
    "        self.public_key = (e,N)\n",
    "        self.secret_key = (d,N)\n",
    "\n",
    "    def get_public_key(self) -> bytearray:\n",
    "        e = self.public_key[0]\n",
    "        N = self.public_key[1]\n",
    "        \n",
    "        # Para el tamaño en bytes (no bits)\n",
    "        e_bytes = (e.bit_length() + 7) // 8\n",
    "        N_bytes = (N.bit_length() + 7) // 8\n",
    "        \n",
    "        b_e = e.to_bytes(e_bytes,'big')\n",
    "        b_N = N.to_bytes(N_bytes,'big')\n",
    "        \n",
    "        return e_bytes.to_bytes(4,'big') + b_e + N_bytes.to_bytes(4,'big') + b_N \n",
    "\n",
    "    def decrypt(self, ciphertext: bytearray) -> str:\n",
    "        d = self.secret_key[0]\n",
    "        N = self.secret_key[1]\n",
    "        \n",
    "        # necesito el n para separar en bloques\n",
    "        n = (N.bit_length()-1)//8 \n",
    "        \n",
    "        decriptado = \"\"\n",
    "        \n",
    "        for i in range(0, len(ciphertext), n+1):\n",
    "            c = ciphertext[i:i+n+1]\n",
    "            \n",
    "            int_c = int.from_bytes(c, \"big\")\n",
    "            \n",
    "            n_dec = pow(int_c, d, N)\n",
    "            \n",
    "            dec = n_dec.to_bytes(n+1, \"big\").strip(b'\\x00')\n",
    "            \n",
    "            decriptado += dec.decode(\"utf-8\")\n",
    "            \n",
    "        return decriptado\n",
    "            "
   ]
  },
  {
   "cell_type": "code",
   "execution_count": 601,
   "id": "featured-register",
   "metadata": {},
   "outputs": [],
   "source": [
    "#a = RSAReceiver(100)"
   ]
  },
  {
   "cell_type": "code",
   "execution_count": 602,
   "id": "south-azerbaijan",
   "metadata": {},
   "outputs": [],
   "source": [
    "#int.from_bytes(a.get_public_key()[:4], 'big') # 25\n",
    "#int.from_bytes(a.get_public_key()[4:4+25], 'big')"
   ]
  },
  {
   "cell_type": "code",
   "execution_count": 603,
   "id": "efficient-reality",
   "metadata": {},
   "outputs": [],
   "source": [
    "#((329861860025362046740653651111990613030854999475473815122321).bit_length() + 7)//8"
   ]
  },
  {
   "cell_type": "markdown",
   "id": "satisfied-botswana",
   "metadata": {},
   "source": [
    "## Clase Sender\n",
    "\n",
    "Ahora hay que hacer la clase sender, que es considerablemente más sencilla, ya que no hay que generar llaves"
   ]
  },
  {
   "cell_type": "code",
   "execution_count": 604,
   "id": "distant-directory",
   "metadata": {},
   "outputs": [],
   "source": [
    "class RSASender:\n",
    "    \n",
    "    def __init__(self, public_key: bytearray) -> None:\n",
    "        n_e = int.from_bytes(public_key[:4], \"big\")\n",
    "        self.e = int.from_bytes(public_key[4:4+n_e], \"big\")\n",
    "        n_N = int.from_bytes(public_key[4+n_e:8+n_e], \"big\")\n",
    "        self.N = int.from_bytes(public_key[8+n_e:8+n_e+n_N], \"big\")\n",
    "        \n",
    "        #print(\"N: \"+str(self.N))\n",
    "        #print(\"e: \"+str(self.e))\n",
    "            \n",
    "    def encrypt(self, message: str) -> bytearray:\n",
    "        # Primero de mensaje a bytes\n",
    "        b_mensaje = bytearray(message, 'utf-8')\n",
    "        \n",
    "        n = (self.N.bit_length()-1)//8 \n",
    "        \n",
    "        encriptado = bytearray(b'')\n",
    "        \n",
    "        # Avanzo bloque por bloque con un indice\n",
    "        for i in range(0, len(b_mensaje), n):\n",
    "            b = b_mensaje[i:i+n]\n",
    "            \n",
    "            a = int.from_bytes(b, 'big')\n",
    "            c = pow(a, self.e, self.N)\n",
    "            \n",
    "            # Una vez encriptado se pasa a bytes y se agrega al bytearray de largo n+1\n",
    "            encriptado += c.to_bytes(n+1, \"big\")\n",
    "        return encriptado\n",
    "            \n",
    "                \n",
    "        "
   ]
  },
  {
   "cell_type": "code",
   "execution_count": 605,
   "id": "opposite-linux",
   "metadata": {},
   "outputs": [],
   "source": [
    "#a = RSAReceiver(100)\n",
    "#s = RSASender(a.get_public_key())"
   ]
  },
  {
   "cell_type": "code",
   "execution_count": 607,
   "id": "angry-slovakia",
   "metadata": {},
   "outputs": [
    {
     "data": {
      "text/plain": [
       "True"
      ]
     },
     "execution_count": 607,
     "metadata": {},
     "output_type": "execute_result"
    }
   ],
   "source": [
    "# m = (\n",
    "#     'Being open source means anyone can independently review '\n",
    "#     'the code. If it was closed source, nobody could verify the '\n",
    "#     'security. I think it’s essential for a program of this '\n",
    "#     'nature to be open source.'\n",
    "# )\n",
    "# enc = s.encrypt(m)\n",
    "# a.decrypt(enc)==m"
   ]
  }
 ],
 "metadata": {
  "kernelspec": {
   "display_name": "Python 3",
   "language": "python",
   "name": "python3"
  },
  "language_info": {
   "codemirror_mode": {
    "name": "ipython",
    "version": 3
   },
   "file_extension": ".py",
   "mimetype": "text/x-python",
   "name": "python",
   "nbconvert_exporter": "python",
   "pygments_lexer": "ipython3",
   "version": "3.9.7"
  }
 },
 "nbformat": 4,
 "nbformat_minor": 5
}
