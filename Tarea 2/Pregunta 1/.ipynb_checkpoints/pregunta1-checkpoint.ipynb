{
 "cells": [
  {
   "cell_type": "markdown",
   "id": "massive-luther",
   "metadata": {},
   "source": [
    "# Base de la Tarea dada en el enunciado\n",
    "\n",
    "Antes de empezar es necesario ver lo que nos dieron en el enunciado para poder crear las funciones necesarias:\n",
    "\n",
    "\n",
    "La primera es davies-meyer, la funcion de compresión, que debe retornar una funcion de compresion basada en las construccion que vimos en clases"
   ]
  },
  {
   "cell_type": "code",
   "execution_count": 1,
   "id": "young-folks",
   "metadata": {},
   "outputs": [],
   "source": [
    "# ( encrypt : ( bytearray , bytearray ) - > bytearray ,l_key : int , l_message : int )- > ( bytearray ) - > bytearray :\n",
    "def davies_meyer(encrypt, l_key, l_message):\n",
    "    \"\"\"\n",
    "    Arguments :\n",
    "        encrypt : an encryption function\n",
    "        l_key : length in bytes of the keys for encrypt\n",
    "        l_message : length in bytes of the messages for encrypt\n",
    "    Returns :\n",
    "        A compression function from messages of length l_key + l_message to\n",
    "        messages of length l_message , defined by using the Davies - Meyer\n",
    "        construction\n",
    "    \"\"\"\n",
    "    pass"
   ]
  },
  {
   "cell_type": "markdown",
   "id": "clinical-figure",
   "metadata": {},
   "source": [
    "La segunda funcion que nos piden es pad, la cual en mi opinion es la más simple y más adelante será la primera en ser desarrollada\n"
   ]
  },
  {
   "cell_type": "code",
   "execution_count": 2,
   "id": "liquid-prairie",
   "metadata": {},
   "outputs": [],
   "source": [
    "def pad(message, l_block):\n",
    "    \"\"\"\n",
    "    Arguments :\n",
    "        message : message to be padded\n",
    "        l_block : length in bytes of the block\n",
    "    Returns :\n",
    "        extension of message that includes the length of message\n",
    "        ( in bytes ) in its last block\n",
    "    \"\"\"\n",
    "    pass"
   ]
  },
  {
   "cell_type": "markdown",
   "id": "accepted-backup",
   "metadata": {},
   "source": [
    "Por ultimo la funcion de merkle-damgard, que hace uso de las dos anteriores por lo que será la final y que tambien retorna una funcion de hash.\n"
   ]
  },
  {
   "cell_type": "code",
   "execution_count": 3,
   "id": "least-floating",
   "metadata": {},
   "outputs": [],
   "source": [
    "#( IV : bytearray , comp : ( bytearray ) - > bytearray ,\n",
    "#l_block : int ) - > ( bytearray ) - > bytearray :\n",
    "def merkle_damgard(IV, comp, l_block):\n",
    "    \"\"\"\n",
    "    Arguments :\n",
    "        IV : initialization vector for a hash function\n",
    "        comp : compression function to be used in the Merkle - Damgard\n",
    "        construction\n",
    "        l_block : length in bytes of the blocks to be used in the Merkle - Damgard\n",
    "        construction\n",
    "    Returns :\n",
    "        A hash function for messages of arbitrary length , defined by using\n",
    "        the Merkle - Damgard construction\n",
    "    \"\"\"\n",
    "    pass"
   ]
  },
  {
   "cell_type": "markdown",
   "id": "cutting-duplicate",
   "metadata": {},
   "source": [
    "# Funcion Pad\n",
    "\n",
    "Basta con seguir las indicaciones que nos dieron en un inicio de volver al mensaje en uno divisible por el largo de los bloques y agregar un bloque al final que indique el largo de los datos en base 256"
   ]
  },
  {
   "cell_type": "code",
   "execution_count": 23,
   "id": "polished-papua",
   "metadata": {},
   "outputs": [],
   "source": [
    "def pad(message, l_block):\n",
    "    length = len(message)\n",
    "    remainder = l_block - length%l_block\n",
    "    if remainder == l_block:\n",
    "        # En caso de ser divisible solo se debe agregar el largo\n",
    "        padded = message + length.to_bytes(l_block, \"big\")\n",
    "        \n",
    "    else: \n",
    "        # En caso contrario se agregan los bytes \\x01\\x00...\\x00\n",
    "        if remainder == 1:\n",
    "            # Solo agrego 1 y ningun \\x00\n",
    "            padded = message + b'\\x01' + length.to_bytes(l_block, \"big\")\n",
    "            \n",
    "        else:\n",
    "            # Agrego un \\x01 y remainder-1 veces \\x00\n",
    "            padded = message + b'\\x01' + b'\\x00'*(remainder-1) + length.to_bytes(l_block, \"big\")\n",
    "    return padded"
   ]
  },
  {
   "cell_type": "markdown",
   "id": "collective-blanket",
   "metadata": {},
   "source": [
    "Para comprobar pruebo con los ejemplos que nos dieron en el git en el area de issues"
   ]
  },
  {
   "cell_type": "code",
   "execution_count": 24,
   "id": "olive-insider",
   "metadata": {},
   "outputs": [
    {
     "data": {
      "text/plain": [
       "True"
      ]
     },
     "execution_count": 24,
     "metadata": {},
     "output_type": "execute_result"
    }
   ],
   "source": [
    "pad(b'0', 16) == b'0\\x01\\x00\\x00\\x00\\x00\\x00\\x00\\x00\\x00\\x00\\x00\\x00\\x00\\x00\\x00\\x00\\x00\\x00\\x00\\x00\\x00\\x00\\x00\\x00\\x00\\x00\\x00\\x00\\x00\\x00\\x01'"
   ]
  },
  {
   "cell_type": "code",
   "execution_count": 25,
   "id": "inside-making",
   "metadata": {},
   "outputs": [
    {
     "data": {
      "text/plain": [
       "True"
      ]
     },
     "execution_count": 25,
     "metadata": {},
     "output_type": "execute_result"
    }
   ],
   "source": [
    "pad(b'0123456789012345', 16) == b'0123456789012345\\x00\\x00\\x00\\x00\\x00\\x00\\x00\\x00\\x00\\x00\\x00\\x00\\x00\\x00\\x00\\x10'"
   ]
  },
  {
   "cell_type": "code",
   "execution_count": 26,
   "id": "arctic-jerusalem",
   "metadata": {},
   "outputs": [
    {
     "data": {
      "text/plain": [
       "True"
      ]
     },
     "execution_count": 26,
     "metadata": {},
     "output_type": "execute_result"
    }
   ],
   "source": [
    "padded = pad(b'012345678901234567890123456789012345678901234567890123456789012345678901234567890123456789012345678901234567890123456789012345678901234567890123456789012345678901234567890123456789012345678901234567890123456789012345678901234567890123456789012345678901234567890123456789012345678901234567890123456789', 16)\n",
    "issue = b'012345678901234567890123456789012345678901234567890123456789012345678901234567890123456789012345678901234567890123456789012345678901234567890123456789012345678901234567890123456789012345678901234567890123456789012345678901234567890123456789012345678901234567890123456789012345678901234567890123456789\\x01\\x00\\x00\\x00\\x00\\x00\\x00\\x00\\x00\\x00\\x00\\x00\\x00\\x00\\x00\\x00\\x00\\x00\\x01,'\n",
    "\n",
    "padded==issue"
   ]
  },
  {
   "cell_type": "markdown",
   "id": "covered-teacher",
   "metadata": {},
   "source": [
    "# Compresión por construcción de Davies-Meyer\n",
    "\n",
    "En base a lo visto en clases se desarrolla esta funcion"
   ]
  },
  {
   "cell_type": "code",
   "execution_count": 19,
   "id": "informal-territory",
   "metadata": {},
   "outputs": [],
   "source": [
    "def davies_meyer(encrypt, l_key, l_message):\n",
    "    # Primero defino una funcion de xor bit a bit\n",
    "    def byte_xor(ba1, ba2):\n",
    "        return bytearray([_a ^ _b for _a, _b in zip(ba1, ba2)])\n",
    "    \n",
    "    def comp(message):\n",
    "        n_key = message[:l_key]\n",
    "        n_mess = message[l_key:l_key+l_message]\n",
    "        \n",
    "        compressed = byte_xor(encrypt(n_key, n_mess), n_mess)\n",
    "        \n",
    "        return compressed\n",
    "    return comp"
   ]
  },
  {
   "cell_type": "code",
   "execution_count": 48,
   "id": "standard-content",
   "metadata": {},
   "outputs": [],
   "source": [
    "from Crypto.Cipher import AES\n",
    "\n",
    "def AES_128(key: bytearray, message: bytearray) -> bytearray:\n",
    "    a = AES.new(bytes(key), AES.MODE_ECB)\n",
    "    return bytearray(a.encrypt(message))\n",
    "\n",
    "# compr = davies_meyer(AES_128, 16, 16)"
   ]
  },
  {
   "cell_type": "markdown",
   "id": "literary-investigation",
   "metadata": {},
   "source": [
    "Para comprobar que al menos este comprimiendo hago una prueba con un mensaje de largo 32 `(l_key + l_message)`"
   ]
  },
  {
   "cell_type": "code",
   "execution_count": 44,
   "id": "mature-annotation",
   "metadata": {},
   "outputs": [
    {
     "ename": "TypeError",
     "evalue": "argument 1 must be read-only bytes-like object, not bytearray",
     "output_type": "error",
     "traceback": [
      "\u001b[0;31m---------------------------------------------------------------------------\u001b[0m",
      "\u001b[0;31mTypeError\u001b[0m                                 Traceback (most recent call last)",
      "\u001b[0;32m<ipython-input-44-00f05c94b864>\u001b[0m in \u001b[0;36m<module>\u001b[0;34m\u001b[0m\n\u001b[0;32m----> 1\u001b[0;31m \u001b[0mcompr\u001b[0m\u001b[0;34m(\u001b[0m\u001b[0mbytearray\u001b[0m\u001b[0;34m(\u001b[0m\u001b[0;34mb\"123456789012345678901234567890123456\"\u001b[0m\u001b[0;34m)\u001b[0m\u001b[0;34m)\u001b[0m\u001b[0;34m\u001b[0m\u001b[0;34m\u001b[0m\u001b[0m\n\u001b[0m",
      "\u001b[0;32m<ipython-input-19-654d7cffbba3>\u001b[0m in \u001b[0;36mcomp\u001b[0;34m(message)\u001b[0m\n\u001b[1;32m      8\u001b[0m         \u001b[0mn_mess\u001b[0m \u001b[0;34m=\u001b[0m \u001b[0mmessage\u001b[0m\u001b[0;34m[\u001b[0m\u001b[0ml_key\u001b[0m\u001b[0;34m:\u001b[0m\u001b[0ml_key\u001b[0m\u001b[0;34m+\u001b[0m\u001b[0ml_message\u001b[0m\u001b[0;34m]\u001b[0m\u001b[0;34m\u001b[0m\u001b[0;34m\u001b[0m\u001b[0m\n\u001b[1;32m      9\u001b[0m \u001b[0;34m\u001b[0m\u001b[0m\n\u001b[0;32m---> 10\u001b[0;31m         \u001b[0mcompressed\u001b[0m \u001b[0;34m=\u001b[0m \u001b[0mbyte_xor\u001b[0m\u001b[0;34m(\u001b[0m\u001b[0mencrypt\u001b[0m\u001b[0;34m(\u001b[0m\u001b[0mn_key\u001b[0m\u001b[0;34m,\u001b[0m \u001b[0mn_mess\u001b[0m\u001b[0;34m)\u001b[0m\u001b[0;34m,\u001b[0m \u001b[0mn_mess\u001b[0m\u001b[0;34m)\u001b[0m\u001b[0;34m\u001b[0m\u001b[0;34m\u001b[0m\u001b[0m\n\u001b[0m\u001b[1;32m     11\u001b[0m \u001b[0;34m\u001b[0m\u001b[0m\n\u001b[1;32m     12\u001b[0m         \u001b[0;32mreturn\u001b[0m \u001b[0mcompressed\u001b[0m\u001b[0;34m\u001b[0m\u001b[0;34m\u001b[0m\u001b[0m\n",
      "\u001b[0;32m<ipython-input-20-907cc63a3562>\u001b[0m in \u001b[0;36mAES_128\u001b[0;34m(key, message)\u001b[0m\n\u001b[1;32m      2\u001b[0m \u001b[0;34m\u001b[0m\u001b[0m\n\u001b[1;32m      3\u001b[0m \u001b[0;32mdef\u001b[0m \u001b[0mAES_128\u001b[0m\u001b[0;34m(\u001b[0m\u001b[0mkey\u001b[0m\u001b[0;34m:\u001b[0m \u001b[0mbytearray\u001b[0m\u001b[0;34m,\u001b[0m \u001b[0mmessage\u001b[0m\u001b[0;34m:\u001b[0m \u001b[0mbytearray\u001b[0m\u001b[0;34m)\u001b[0m \u001b[0;34m->\u001b[0m \u001b[0mbytearray\u001b[0m\u001b[0;34m:\u001b[0m\u001b[0;34m\u001b[0m\u001b[0;34m\u001b[0m\u001b[0m\n\u001b[0;32m----> 4\u001b[0;31m     \u001b[0ma\u001b[0m \u001b[0;34m=\u001b[0m \u001b[0mAES\u001b[0m\u001b[0;34m.\u001b[0m\u001b[0mnew\u001b[0m\u001b[0;34m(\u001b[0m\u001b[0mkey\u001b[0m\u001b[0;34m,\u001b[0m \u001b[0mAES\u001b[0m\u001b[0;34m.\u001b[0m\u001b[0mMODE_ECB\u001b[0m\u001b[0;34m)\u001b[0m\u001b[0;34m\u001b[0m\u001b[0;34m\u001b[0m\u001b[0m\n\u001b[0m\u001b[1;32m      5\u001b[0m     \u001b[0;32mreturn\u001b[0m \u001b[0mbytearray\u001b[0m\u001b[0;34m(\u001b[0m\u001b[0ma\u001b[0m\u001b[0;34m.\u001b[0m\u001b[0mencrypt\u001b[0m\u001b[0;34m(\u001b[0m\u001b[0mmessage\u001b[0m\u001b[0;34m)\u001b[0m\u001b[0;34m)\u001b[0m\u001b[0;34m\u001b[0m\u001b[0;34m\u001b[0m\u001b[0m\n\u001b[1;32m      6\u001b[0m \u001b[0;34m\u001b[0m\u001b[0m\n",
      "\u001b[0;32m~/.local/lib/python3.9/site-packages/Crypto/Cipher/AES.py\u001b[0m in \u001b[0;36mnew\u001b[0;34m(key, *args, **kwargs)\u001b[0m\n\u001b[1;32m     93\u001b[0m     \u001b[0;34m:\u001b[0m\u001b[0mReturn\u001b[0m\u001b[0;34m:\u001b[0m \u001b[0man\u001b[0m\u001b[0;31m \u001b[0m\u001b[0;31m`\u001b[0m\u001b[0mAESCipher\u001b[0m\u001b[0;31m`\u001b[0m \u001b[0mobject\u001b[0m\u001b[0;34m\u001b[0m\u001b[0;34m\u001b[0m\u001b[0m\n\u001b[1;32m     94\u001b[0m     \"\"\"\n\u001b[0;32m---> 95\u001b[0;31m     \u001b[0;32mreturn\u001b[0m \u001b[0mAESCipher\u001b[0m\u001b[0;34m(\u001b[0m\u001b[0mkey\u001b[0m\u001b[0;34m,\u001b[0m \u001b[0;34m*\u001b[0m\u001b[0margs\u001b[0m\u001b[0;34m,\u001b[0m \u001b[0;34m**\u001b[0m\u001b[0mkwargs\u001b[0m\u001b[0;34m)\u001b[0m\u001b[0;34m\u001b[0m\u001b[0;34m\u001b[0m\u001b[0m\n\u001b[0m\u001b[1;32m     96\u001b[0m \u001b[0;34m\u001b[0m\u001b[0m\n\u001b[1;32m     97\u001b[0m \u001b[0;31m#: Electronic Code Book (ECB). See `blockalgo.MODE_ECB`.\u001b[0m\u001b[0;34m\u001b[0m\u001b[0;34m\u001b[0m\u001b[0m\n",
      "\u001b[0;32m~/.local/lib/python3.9/site-packages/Crypto/Cipher/AES.py\u001b[0m in \u001b[0;36m__init__\u001b[0;34m(self, key, *args, **kwargs)\u001b[0m\n\u001b[1;32m     57\u001b[0m \u001b[0;34m\u001b[0m\u001b[0m\n\u001b[1;32m     58\u001b[0m         See also `new()` at the module level.\"\"\"\n\u001b[0;32m---> 59\u001b[0;31m         \u001b[0mblockalgo\u001b[0m\u001b[0;34m.\u001b[0m\u001b[0mBlockAlgo\u001b[0m\u001b[0;34m.\u001b[0m\u001b[0m__init__\u001b[0m\u001b[0;34m(\u001b[0m\u001b[0mself\u001b[0m\u001b[0;34m,\u001b[0m \u001b[0m_AES\u001b[0m\u001b[0;34m,\u001b[0m \u001b[0mkey\u001b[0m\u001b[0;34m,\u001b[0m \u001b[0;34m*\u001b[0m\u001b[0margs\u001b[0m\u001b[0;34m,\u001b[0m \u001b[0;34m**\u001b[0m\u001b[0mkwargs\u001b[0m\u001b[0;34m)\u001b[0m\u001b[0;34m\u001b[0m\u001b[0;34m\u001b[0m\u001b[0m\n\u001b[0m\u001b[1;32m     60\u001b[0m \u001b[0;34m\u001b[0m\u001b[0m\n\u001b[1;32m     61\u001b[0m \u001b[0;32mdef\u001b[0m \u001b[0mnew\u001b[0m\u001b[0;34m(\u001b[0m\u001b[0mkey\u001b[0m\u001b[0;34m,\u001b[0m \u001b[0;34m*\u001b[0m\u001b[0margs\u001b[0m\u001b[0;34m,\u001b[0m \u001b[0;34m**\u001b[0m\u001b[0mkwargs\u001b[0m\u001b[0;34m)\u001b[0m\u001b[0;34m:\u001b[0m\u001b[0;34m\u001b[0m\u001b[0;34m\u001b[0m\u001b[0m\n",
      "\u001b[0;32m~/.local/lib/python3.9/site-packages/Crypto/Cipher/blockalgo.py\u001b[0m in \u001b[0;36m__init__\u001b[0;34m(self, factory, key, *args, **kwargs)\u001b[0m\n\u001b[1;32m    139\u001b[0m \u001b[0;34m\u001b[0m\u001b[0m\n\u001b[1;32m    140\u001b[0m         \u001b[0;32mif\u001b[0m \u001b[0mself\u001b[0m\u001b[0;34m.\u001b[0m\u001b[0mmode\u001b[0m \u001b[0;34m!=\u001b[0m \u001b[0mMODE_OPENPGP\u001b[0m\u001b[0;34m:\u001b[0m\u001b[0;34m\u001b[0m\u001b[0;34m\u001b[0m\u001b[0m\n\u001b[0;32m--> 141\u001b[0;31m             \u001b[0mself\u001b[0m\u001b[0;34m.\u001b[0m\u001b[0m_cipher\u001b[0m \u001b[0;34m=\u001b[0m \u001b[0mfactory\u001b[0m\u001b[0;34m.\u001b[0m\u001b[0mnew\u001b[0m\u001b[0;34m(\u001b[0m\u001b[0mkey\u001b[0m\u001b[0;34m,\u001b[0m \u001b[0;34m*\u001b[0m\u001b[0margs\u001b[0m\u001b[0;34m,\u001b[0m \u001b[0;34m**\u001b[0m\u001b[0mkwargs\u001b[0m\u001b[0;34m)\u001b[0m\u001b[0;34m\u001b[0m\u001b[0;34m\u001b[0m\u001b[0m\n\u001b[0m\u001b[1;32m    142\u001b[0m             \u001b[0mself\u001b[0m\u001b[0;34m.\u001b[0m\u001b[0mIV\u001b[0m \u001b[0;34m=\u001b[0m \u001b[0mself\u001b[0m\u001b[0;34m.\u001b[0m\u001b[0m_cipher\u001b[0m\u001b[0;34m.\u001b[0m\u001b[0mIV\u001b[0m\u001b[0;34m\u001b[0m\u001b[0;34m\u001b[0m\u001b[0m\n\u001b[1;32m    143\u001b[0m         \u001b[0;32melse\u001b[0m\u001b[0;34m:\u001b[0m\u001b[0;34m\u001b[0m\u001b[0;34m\u001b[0m\u001b[0m\n",
      "\u001b[0;31mTypeError\u001b[0m: argument 1 must be read-only bytes-like object, not bytearray"
     ]
    }
   ],
   "source": [
    "# compr(bytearray(b\"123456789012345678901234567890123456\"))"
   ]
  },
  {
   "cell_type": "markdown",
   "id": "private-reminder",
   "metadata": {},
   "source": [
    "Para evitar este tipo de errores en la construccion de Merkle-Damgard se antepone un \"bytes\" a el mensaje a encriptar"
   ]
  },
  {
   "cell_type": "markdown",
   "id": "checked-amplifier",
   "metadata": {},
   "source": [
    "# Construccion de Merkle-Damgard\n",
    "Finalmente se aplica el modelo de bloques para realizar la encriptacion por partes que corresponde a este tipo de funciones"
   ]
  },
  {
   "cell_type": "code",
   "execution_count": 45,
   "id": "altered-height",
   "metadata": {},
   "outputs": [],
   "source": [
    "def merkle_damgard(IV, comp, l_block):\n",
    "    def pad(message, l_block):\n",
    "        length = len(message)\n",
    "        remainder = l_block - length%l_block\n",
    "        if remainder == l_block:\n",
    "            # En caso de ser divisible solo se debe agregar el largo\n",
    "            padded = message + length.to_bytes(l_block, \"big\")\n",
    "        \n",
    "        else: \n",
    "            # En caso contrario se agregan los bytes \\x01\\x00...\\x00\n",
    "            if remainder == 1:\n",
    "                # Solo agrego 1 y ningun \\x00\n",
    "                padded = message + b'\\x01' + length.to_bytes(l_block, \"big\")\n",
    "            \n",
    "            else:\n",
    "                # Agrego un \\x01 y remainder-1 veces \\x00\n",
    "                padded = message + b'\\x01' + b'\\x00'*(remainder-1) + length.to_bytes(l_block, \"big\")\n",
    "        return padded\n",
    "\n",
    "    def hash_function(message):\n",
    "        message = pad(message, l_block)\n",
    "        \n",
    "        H = IV\n",
    "        for i in range(0,len(message), l_block):\n",
    "            # print(message[i:i+l_block])\n",
    "            H = comp(bytes(message[i:i+l_block]+H))\n",
    "            \n",
    "        return H\n",
    "        \n",
    "    \n",
    "    return hash_function"
   ]
  },
  {
   "cell_type": "code",
   "execution_count": 46,
   "id": "auburn-terry",
   "metadata": {},
   "outputs": [
    {
     "data": {
      "text/plain": [
       "bytearray(b'p\\xca \\xd8\\x9c\\xeb\\xe6\\xb1\\xce\\xcf\\x03\\xb2\\x9e\\x93\\x19\\xbc')"
      ]
     },
     "execution_count": 46,
     "metadata": {},
     "output_type": "execute_result"
    }
   ],
   "source": [
    "#hashing = merkle_damgard(bytearray(b'1234567890123456'), compr, 16)\n",
    "#hashing(bytearray(b''))"
   ]
  },
  {
   "cell_type": "code",
   "execution_count": 49,
   "id": "african-bangkok",
   "metadata": {},
   "outputs": [
    {
     "name": "stdout",
     "output_type": "stream",
     "text": [
      "bytearray(b'\\xe9\\xe8\\xac\\x12\\\\\\xf2\\xc8\\x16\\xceOV\\xc5Y.T\\xea')\n",
      "bytearray(b'\\xb6\\xfb\\xc6a\\x12\\xae\\x95\\x1f\\xda\\xc5\\x13\\xde\\x06|Q\\x96')\n",
      "bytearray(b'\\xc5\\xec\\xcdd\\xa4(R*\\xf0L*QtL\\xda\\x81')\n",
      "bytearray(b'p\\xca \\xd8\\x9c\\xeb\\xe6\\xb1\\xce\\xcf\\x03\\xb2\\x9e\\x93\\x19\\xbc')\n"
     ]
    }
   ],
   "source": [
    "if __name__ == \"__main__\":\n",
    "    compresion = davies_meyer(AES_128, 16, 16)\n",
    "    hash = merkle_damgard(bytearray(b'1234567890123456'), compresion, 16)\n",
    "\n",
    "    s1 = bytearray(b'Este es un mensaje de prueba para la tarea 2')\n",
    "    s2 = bytearray(b'Este es un mensaje de Prueba para la tarea 2')\n",
    "    s3 = bytearray(b'Un mensaje corto')\n",
    "    s4 = bytearray(b'')\n",
    "\n",
    "    h1 = hash(s1)\n",
    "    h2 = hash(s2)\n",
    "    h3 = hash(s3)\n",
    "    h4 = hash(s4)\n",
    "\n",
    "    print(h1)\n",
    "    print(h2)\n",
    "    print(h3)\n",
    "    print(h4)"
   ]
  }
 ],
 "metadata": {
  "kernelspec": {
   "display_name": "Python 3",
   "language": "python",
   "name": "python3"
  },
  "language_info": {
   "codemirror_mode": {
    "name": "ipython",
    "version": 3
   },
   "file_extension": ".py",
   "mimetype": "text/x-python",
   "name": "python",
   "nbconvert_exporter": "python",
   "pygments_lexer": "ipython3",
   "version": "3.9.7"
  }
 },
 "nbformat": 4,
 "nbformat_minor": 5
}
