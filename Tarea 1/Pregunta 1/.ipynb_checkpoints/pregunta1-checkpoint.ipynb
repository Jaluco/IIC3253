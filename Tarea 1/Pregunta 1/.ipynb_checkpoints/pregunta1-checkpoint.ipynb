{
 "cells": [
  {
   "cell_type": "markdown",
   "id": "southern-infection",
   "metadata": {},
   "source": [
    "# Funcion para decriptar \n",
    "\n",
    "En esta pregunta necesitamos usasr algún método para decriptar textos cifrados en bas e a la frecuencia del uso de caracteres en el lenguaje.\n",
    "Siguiendo la recomendacion de los ayudantes en el issue: https://github.com/UC-IIC3253/2022/issues/20\n",
    "Leyendo el libro se ve que existen dos metodos para determinar el largo de las llaves, despues de lo cual se puede desencriptar de una manera más o menos trivial.\n",
    "\n",
    "Antes de empezar tengo que programar la forma de encriptar y decriptar en base a lo que dice el enunciado, ya que si no el resto de la tarea es imposible.\n",
    "\n",
    "Para saber como encriptar o decriptar es necesario conocer el alfabeto"
   ]
  },
  {
   "cell_type": "code",
   "execution_count": 273,
   "id": "administrative-madison",
   "metadata": {},
   "outputs": [],
   "source": [
    "letterFrequency = {'E' : 12.0,\n",
    "'T' : 9.10,\n",
    "'A' : 8.12,\n",
    "'O' : 7.68,\n",
    "'I' : 7.31,\n",
    "'N' : 6.95,\n",
    "'S' : 6.28,\n",
    "'R' : 6.02,\n",
    "'H' : 5.92,\n",
    "'D' : 4.32,\n",
    "'L' : 3.98,\n",
    "'U' : 2.88,\n",
    "'C' : 2.71,\n",
    "'M' : 2.61,\n",
    "'F' : 2.30,\n",
    "'Y' : 2.11,\n",
    "'W' : 2.09,\n",
    "'G' : 2.03,\n",
    "'P' : 1.82,\n",
    "'B' : 1.49,\n",
    "'V' : 1.11,\n",
    "'K' : 0.69,\n",
    "'X' : 0.17,\n",
    "'Q' : 0.11,\n",
    "'J' : 0.10,\n",
    "'Z' : 0.07 }\n",
    "\n",
    "for c in letterFrequency.keys():\n",
    "    letterFrequency[c] /= 100"
   ]
  },
  {
   "cell_type": "markdown",
   "id": "dominican-immune",
   "metadata": {},
   "source": [
    "Para poder iterar N veces sobre una llave de largo l es necesario crear un generador"
   ]
  },
  {
   "cell_type": "code",
   "execution_count": 274,
   "id": "sorted-ambassador",
   "metadata": {},
   "outputs": [],
   "source": [
    "def k_gen(k):\n",
    "    index = 0\n",
    "    \n",
    "    while True:\n",
    "        # print(k[index])\n",
    "        yield k[index]\n",
    "        index += 1\n",
    "        \n",
    "        if index == len(k):\n",
    "            index = 0"
   ]
  },
  {
   "cell_type": "code",
   "execution_count": 275,
   "id": "threatened-thesis",
   "metadata": {},
   "outputs": [],
   "source": [
    "def enc_def(freqs):\n",
    "    alp = sorted(freqs.keys())\n",
    "    N = len(alp)\n",
    "    \n",
    "    def enc(k, m):\n",
    "        k = k_gen(k)\n",
    "        char_to_nums = {i[1]: i[0] for i in enumerate(alp)}\n",
    "        num_to_chars = {i[0]: i[1] for i in enumerate(alp)}\n",
    "        c = \"\"\n",
    "        for character in m:\n",
    "            num = char_to_nums[character]\n",
    "            k_i = char_to_nums[next(k)]\n",
    "            \n",
    "            # Aqui se hace el shift segun lo indicado en el enunciado\n",
    "            cnum = (num + k_i) % N\n",
    "            c += num_to_chars[cnum]\n",
    "        return c\n",
    "    \n",
    "    return enc\n",
    "\n",
    "def dec_def(freqs):\n",
    "    alp = sorted(freqs.keys())\n",
    "    N = len(alp)\n",
    "    \n",
    "    def dec(k, c):\n",
    "        k = k_gen(k)\n",
    "        char_to_nums = {i[1]: i[0] for i in enumerate(alp)}\n",
    "        num_to_chars = {i[0]: i[1] for i in enumerate(alp)}\n",
    "        m = \"\"\n",
    "        for character in c:\n",
    "            num = char_to_nums[character]\n",
    "            k_i = char_to_nums[next(k)]\n",
    "            \n",
    "            # Aqui se hace el shift segun lo indicado en el enunciado\n",
    "            cnum = (num - k_i) % N\n",
    "            m += num_to_chars[cnum]\n",
    "        return m\n",
    "    \n",
    "    return dec"
   ]
  },
  {
   "cell_type": "markdown",
   "id": "legislative-regular",
   "metadata": {},
   "source": [
    "Una pequeña prueba para asegurarme que esta funcionando"
   ]
  },
  {
   "cell_type": "code",
   "execution_count": 276,
   "id": "promising-grave",
   "metadata": {},
   "outputs": [],
   "source": [
    "enc = enc_def(letterFrequency)"
   ]
  },
  {
   "cell_type": "code",
   "execution_count": 277,
   "id": "moved-briefs",
   "metadata": {},
   "outputs": [
    {
     "data": {
      "text/plain": [
       "'WIQCEEO'"
      ]
     },
     "execution_count": 277,
     "metadata": {},
     "output_type": "execute_result"
    }
   ],
   "source": [
    "enc(\"KEY\", \"MESSAGE\")"
   ]
  },
  {
   "cell_type": "code",
   "execution_count": 278,
   "id": "bibliographic-sandwich",
   "metadata": {},
   "outputs": [],
   "source": [
    "dec = dec_def(letterFrequency)"
   ]
  },
  {
   "cell_type": "code",
   "execution_count": 279,
   "id": "subsequent-pepper",
   "metadata": {},
   "outputs": [
    {
     "data": {
      "text/plain": [
       "'MESSAGE'"
      ]
     },
     "execution_count": 279,
     "metadata": {},
     "output_type": "execute_result"
    }
   ],
   "source": [
    "dec(\"KEY\", \"WIQCEEO\")"
   ]
  },
  {
   "cell_type": "markdown",
   "id": "unique-wright",
   "metadata": {},
   "source": [
    "Para los siguientes pasos es necesario tener un mensaje largo cifrado, para lo cual uso uno de internet"
   ]
  },
  {
   "cell_type": "code",
   "execution_count": 280,
   "id": "known-inflation",
   "metadata": {},
   "outputs": [
    {
     "data": {
      "text/plain": [
       "'NOCOMFORTDOWRITTENCONDUCTATPREVENTMANNERSONCELEBRATEDCONTRASTEDDISCRETIONHIMSYMPATHIZEHERCOLLECTINGOCCASIONALDOANSWEREDBACHELOROCCASIONINOFOFFENDEDNOCONCERNSSUPPLYWORTHYWARMTHBRANCHOFNOYEVOICETRIEDKNOWNTOASMYTOTHOUGHWISHEDMERITSORBEALONEVISITUSETHESESMARTROOMSHAMNOWAITINGINONENJOYEDPLACINGITINQUIRYBEDSINCERITYYETTHEREFOREFORFEITEDHISCERTAINTYNEGLECTEDQUESTIONSPURSUITCHAMBERASELDERLYAMONGSTONDISTANTHOWEVERWARRANTFARTHERTOOFMYJUSTICEWISHINGPRUDENTWAITINGINBECOMPARISONAGENOTPIANOFORTEINCREASINGDELIGHTFULNOWINSIPIDITYSUFFICIENTDISPATCHEDANYREASONABLYLEDASKANNOUNCINGIFATTACHMENTRESOLUTIONSENTIMENTSADMIRATIONMEONDIMINUTIONMERRYALONEDOITBURSTMESONGSSORRYEQUALCHARMJOYHERTHOSEFOLLYHAMINTHEYNOISMANYBOTHRECOMMENDNEWCONTENTEDINTENTIONIMPROVINGBEDPERFORMEDAGEIMPROVINGOFSOSTRANGERSRESOURCESINSTANTLYHAPPINESSATNORTHWARDDANGERNEARERLENGTHOPPOSEREALLYADDNOWEITHERBUTASKREGRETEATBRANCHFATGARDENBECOMEAMHEEXCEPTWISHESPASTSOATDOORWEWALKWANTSUCHSANGFEELINGCOLONELGETHERGARRETSOWNPLEASEDHIMANOTHERWASSETTLEDFORMOREOVERENDHORRIBLEENDEAVORENTRANCEANYFAMILIESINCOMEAPPEAREXTENTONOFTHROWNINADMIRESTANHILLONWEIFVICINITYMATERIALINSAWHIMSMALLESTYOUPROVIDEDECSTATICSUPPLIEDGARRETWANTEDEXPECTREMAINASMRCOVEREDPARLORSCONCERNWEEXPRESSINVISITEDTODO'"
      ]
     },
     "execution_count": 280,
     "metadata": {},
     "output_type": "execute_result"
    }
   ],
   "source": [
    "message = \"No comfort do written conduct at prevent manners on. Celebrated contrasted discretion him sympathize her collecting occasional. Do answered bachelor occasion in of offended no concerns. Supply worthy warmth branch of no ye. Voice tried known to as my to. Though wished merits or be. Alone visit use these smart rooms ham. No waiting in on enjoyed placing it inquiry.Bed sincerity yet therefore forfeited his certainty neglected questions. Pursuit chamber as elderly amongst on. Distant however warrant farther to of. My justice wishing prudent waiting in be. Comparison age not pianoforte increasing delightful now. Insipidity sufficient dispatched any reasonably led ask. Announcing if attachment resolution sentiments admiration me on diminution.Merry alone do it burst me songs. Sorry equal charm joy her those folly ham. In they no is many both. Recommend new contented intention improving bed performed age. Improving of so strangers resources instantly happiness at northward. Danger nearer length oppose really add now either. But ask regret eat branch fat garden. Become am he except wishes. Past so at door we walk want such sang. Feeling colonel get her garrets own.Pleased him another was settled for. Moreover end horrible endeavor entrance any families. Income appear extent on of thrown in admire. Stanhill on we if vicinity material in. Saw him smallest you provided ecstatic supplied. Garret wanted expect remain as mr. Covered parlors concern we express in visited to do.\"\n",
    "message = message.replace(\"\\n\", \"\").replace(\" \", \"\").replace(\".\",\"\").upper()\n",
    "\n",
    "message"
   ]
  },
  {
   "cell_type": "code",
   "execution_count": 281,
   "id": "fresh-saturday",
   "metadata": {},
   "outputs": [
    {
     "data": {
      "text/plain": [
       "'XSAYQDYVRNSUBMRDILMSLNYADERZVCFILDQYXRCBWMXGCVIZBEROHAYRRBEQDIBNMQMVCDMMXLGWWWWTYDLGJIFOVAYPJOGRSREYGAKWGYRYVHMKRQGIPOHZKGFOPMBSAMEQSSLSRMPSDPILNIBXSAYRAOVLCWSZTJIAMBXFIAYBQRRFPKRARSDXSWOZMSGCDVGOHIXSUXXMKWKIXMDLMEKFGMQRIBWIPSXQYVZOEJYRCFMQSXSCIRRIQOWKKVRBSMWWFKQLYAYSXGXKGXSLORHYCCNTJKGGXKGDMLAYGBCZOHQSRAOVGDCWOXRRIPOJMBIDYVDOMROHFSWAOVRKMLDCLOKJOGROHOEIQDMMXWNEVQEMRMLYWFCBEQOPBOVJIEKYRECXMXHGCXYXXFYACFIPGEPBELDJYBXFOVRYSDWCHEWRSGCGMQRMLQTPEHCXXUKMRSRESRZOGMWTYBMQYRYQILYXNSELYJMBXCSRABIYCMLQHCVMERXDEPLYAGXWGZMBSXWCYDPMASILDHGCTYDGFOHYXCPOEQYRYLPWVIBKWIKRLYYLMMLQMDKXRKGFWILDVCCSJEXGYRQORRSQCXXQKHKSVYDMMXQCYRBSQGXYRSSLWIPBCYVSLOHMSXZEVQDQCCSLQWQYVPIIOEEJMLYBQHYCFOVRRSQOJMVPWREKSRRRIWXSGCQYXCZYXFBIAYQKORBXIUMSLDILDIBSRRORRSSLSQNBSTSRELIBZIPPSPWIBKKCSQNBSTSREYJQYWRBELQIPCVCCSSBGCCMLCXYXXJILYZTGXIQCERXSPDLUKVBNELQIPXIYBIPVILQXFYTNYWCBIYVPWKHBXSUOMRRIPLYRKWIBIEBIROERLVYXGFPERQEPNILLIAYQCKQFOIVMINDAGCLCCTYCXQYERNSMBACGEJUAYXXQEGFCELQJCOPGXKAYPMXIJQIRRIPQEPBIRCSUXTJOEQOHFSQYXSRRIPGEQCIRDPCNJMBQMBIMFIPORBRSPBMZVICXHCKZMBILDVYXGCKRWPEKSPGOWGXGMWIYZTCKVCHXCXXMXSDDLPYALSRYNQGBIQDELRMJVSLGIGPZGMMLSXWWEROVGKPGXWYGLGWWKKPJOWRISSZVMFMBOHCMWRKXGMWSZTJSIBQEPBIRGELDIBOBNOGRBIKKMLKWKBGMFIPOHNKVJYVQMSLMIPXACOBNBIQCMLFMQSXCNXMNS'"
      ]
     },
     "execution_count": 281,
     "metadata": {},
     "output_type": "execute_result"
    }
   ],
   "source": [
    "ciphertext = enc(\"KEY\", message)\n",
    "ciphertext"
   ]
  },
  {
   "cell_type": "markdown",
   "id": "egyptian-personality",
   "metadata": {},
   "source": [
    "## Método de Kasiski\n",
    "Este método consiste primero en encontrar patrones que se repitan de largo 2 o 3 para en base a el maximo comun divisor de sus distancias se pueda determinar el largo l de la llave que se repite.\n",
    "Para esto primero se necesita una funcion que encuentre estos patrones en un texto cifrado"
   ]
  },
  {
   "cell_type": "code",
   "execution_count": 282,
   "id": "eleven-syndrome",
   "metadata": {},
   "outputs": [],
   "source": [
    "def find_pattern(ciphertext):\n",
    "    patterns = {} # Dic de patrones:cantidad de veces que aparecen\n",
    "    for i in range(len(ciphertext)-3):\n",
    "        substring = ciphertext[i:i+3]\n",
    "        \n",
    "        count = ciphertext.count(substring)\n",
    "        \n",
    "        if count > 2:\n",
    "            indexes = [i for i in range(len(ciphertext)) if ciphertext.startswith(substring, i)]\n",
    "            patterns[substring] = count, indexes\n",
    "        \n",
    "    return patterns\n",
    "\n",
    "def gcd(x, y):\n",
    "    while y != 0:\n",
    "        (x, y) = (y, x % y)\n",
    "    return x\n",
    "\n",
    "def gcd_list(lista):\n",
    "    res = lista[0]\n",
    "    for c in lista[1::]:\n",
    "        res = gcd(res, c)\n",
    "        \n",
    "    return res"
   ]
  },
  {
   "cell_type": "code",
   "execution_count": 283,
   "id": "heated-duration",
   "metadata": {},
   "outputs": [
    {
     "data": {
      "text/plain": [
       "{'AYQ': (3, [2, 704, 890]),\n",
       " 'MSL': (3, [18, 714, 1197]),\n",
       " 'ILD': (5, [31, 526, 577, 718, 1027]),\n",
       " 'QYX': (3, [34, 694, 979]),\n",
       " 'ROH': (3, [50, 329, 350]),\n",
       " 'DIB': (3, [60, 720, 1164]),\n",
       " 'DMM': (3, [69, 357, 606]),\n",
       " 'MMX': (3, [70, 358, 607]),\n",
       " 'FOV': (3, [86, 419, 668]),\n",
       " 'OGR': (3, [93, 348, 1170]),\n",
       " 'SRE': (4, [96, 453, 738, 762]),\n",
       " 'YRY': (3, [105, 468, 546]),\n",
       " 'IPO': (4, [115, 316, 1006, 1186]),\n",
       " 'SSL': (3, [132, 621, 729]),\n",
       " 'AOV': (3, [152, 305, 335]),\n",
       " 'IAY': (3, [168, 703, 889]),\n",
       " 'SGC': (3, [189, 432, 691]),\n",
       " 'RRI': (6, [245, 314, 686, 854, 956, 983]),\n",
       " 'GXK': (3, [269, 287, 944]),\n",
       " 'RIP': (4, [315, 855, 957, 984]),\n",
       " 'JMB': (3, [319, 481, 997]),\n",
       " 'MBI': (3, [320, 1001, 1025]),\n",
       " 'OVR': (3, [336, 420, 669]),\n",
       " 'YXX': (3, [398, 791, 929]),\n",
       " 'FIP': (3, [405, 1005, 1185]),\n",
       " 'EPB': (3, [409, 961, 1156]),\n",
       " 'MLQ': (3, [439, 493, 565]),\n",
       " 'CXX': (3, [446, 596, 1061]),\n",
       " 'GMW': (3, [460, 1048, 1145]),\n",
       " 'CML': (3, [492, 786, 1212]),\n",
       " 'CCS': (3, [581, 644, 779]),\n",
       " 'RRS': (3, [592, 671, 727]),\n",
       " 'SRR': (3, [684, 723, 982]),\n",
       " 'LDI': (3, [716, 719, 1163]),\n",
       " 'ELQ': (3, [772, 817, 937]),\n",
       " 'BIR': (3, [867, 963, 1158]),\n",
       " 'QEP': (3, [882, 960, 1155])}"
      ]
     },
     "execution_count": 283,
     "metadata": {},
     "output_type": "execute_result"
    }
   ],
   "source": [
    "#patterns = find_pattern(ciphertext)\n",
    "#patterns"
   ]
  },
  {
   "cell_type": "markdown",
   "id": "economic-captain",
   "metadata": {},
   "source": [
    "Ahora, teniendo todas las repeticiones de patrones de largo 3 busco el maximo comun divisor entre cada una y luego el maximo comun divisor entre las distintas instancias"
   ]
  },
  {
   "cell_type": "code",
   "execution_count": 284,
   "id": "chemical-source",
   "metadata": {},
   "outputs": [],
   "source": [
    "def find_candidates(patterns, ciphertext):\n",
    "    gcd_patterns = {}\n",
    "    for key in patterns.keys():\n",
    "        # Cuando solo son dos el gcd de las distancias es simplemente la distancia\n",
    "        if patterns[key][0] == 2:\n",
    "            gcd_patterns[key] = patterns[key][1][1] - patterns[key][1][0]\n",
    "        \n",
    "        # Si hay mas de dos es necesario un calculo más complejo\n",
    "        else:\n",
    "            distances = [] # lista de las distancias que existen entre los elementos de la lista\n",
    "            indexes = patterns[key][1]\n",
    "            for i in range(len(indexes)):\n",
    "                number = indexes[i]\n",
    "                for j in range(i, len(indexes)):\n",
    "                    distances.append(indexes[j] - number)\n",
    "                    \n",
    "            # Una vez se tienen las distancias se calcula el gcd\n",
    "            gcd_v = gcd_list(distances)\n",
    "            \n",
    "            # Con esto se eliminan los datos que no sirven porque las distancias no eran multiplos\n",
    "            if gcd_v > 1:\n",
    "                gcd_patterns[key] = gcd_v\n",
    "                \n",
    "    candidates = gcd_patterns.values()\n",
    "    candidates = unique_elements(candidates)\n",
    "    candidates = [i for i in candidates if i <= len(ciphertext)/50]\n",
    "            \n",
    "    return candidates\n",
    "\n",
    "def unique_elements(elements):\n",
    "    elements = sorted(elements)\n",
    "    unique = []\n",
    "    for i in elements:\n",
    "        if i not in unique:\n",
    "            unique.append(i)   \n",
    "    return unique"
   ]
  },
  {
   "cell_type": "code",
   "execution_count": 285,
   "id": "ongoing-stuff",
   "metadata": {},
   "outputs": [
    {
     "name": "stdout",
     "output_type": "stream",
     "text": [
      "[3, 6, 9, 12, 15, 18]\n"
     ]
    }
   ],
   "source": [
    "#candidates = find_candidates(patterns, ciphertext)\n",
    "#print(candidates)"
   ]
  },
  {
   "cell_type": "markdown",
   "id": "comparative-father",
   "metadata": {},
   "source": [
    "### ABS distance\n",
    "\n",
    "Antes de continuar con el desarrollo debo definir mi distancia entre frecuencias, para poder usarla en la comparacion que sigue. La funcion que defino es la usada en el libro recomendado en el issue ya mencionado pues toma en cuenta el shift dado por la encriptacion mientras que el dado en el enunciado no"
   ]
  },
  {
   "cell_type": "code",
   "execution_count": 286,
   "id": "instrumental-combining",
   "metadata": {},
   "outputs": [],
   "source": [
    "def abs_shifted_distance(string : str, frequencies: {str: float}) -> float:\n",
    "    # Suma al cuadrado de las frecuencias de el diccionario\n",
    "    real_sum = sum([i**2 for i in frequencies.values()])\n",
    "    \n",
    "    # Calculo la nueva frecuencia\n",
    "    new_freq = {}\n",
    "    \n",
    "    for c in string:\n",
    "        if c not in new_freq.keys():\n",
    "            new_freq[c] = string.count(c) / len(string)\n",
    "            \n",
    "    empiric_sum = sum([i**2 for i in new_freq.values()])\n",
    "   \n",
    "    return abs(real_sum - empiric_sum) # Se retorna la diferencia entre la suma real y la de las frecuencias dadas\n",
    "    \n",
    "    "
   ]
  },
  {
   "cell_type": "markdown",
   "id": "welcome-composer",
   "metadata": {},
   "source": [
    "Con estos valores candidatos tengo un cierto grado de seguridad de que ahi esta el largo l, por lo que debo ir probando hasta encontrar un valor que se acerque lo suficiente a la frecuencia, en este caso ya se que el largo de la llave es 3 por lo que debiese ser relativamente rapido"
   ]
  },
  {
   "cell_type": "code",
   "execution_count": 297,
   "id": "hearing-cologne",
   "metadata": {},
   "outputs": [],
   "source": [
    "def find_l(candidates, ciphertext, freqs):\n",
    "    # A cada uno de los candidatos hay que encontrarle los subtextos que nacen de cada caracter de el\n",
    "    # para comprobar que distribuyen similar a la frecuencia\n",
    "    min_dif = float(\"inf\")\n",
    "    tau_probable = 0\n",
    "    sub_texts_probables = []\n",
    "    for tau in candidates:\n",
    "        sub_texts = find_partitions(tau, ciphertext)\n",
    "        \n",
    "        # de cada particion sumo las distancias a la frecuencia y pondero\n",
    "        dif_in_freq = sum([abs_shifted_distance(text, freqs) for text in sub_texts])/tau\n",
    "        \n",
    "        if dif_in_freq < min_dif and tau_probable < tau:\n",
    "            # print(tau, dif_in_freq)\n",
    "            min_dif = dif_in_freq\n",
    "            tau_probable = tau\n",
    "            sub_texts_probables = sub_texts\n",
    "            \n",
    "    return tau_probable, sub_texts_probables\n",
    "        \n",
    "        \n",
    "def find_partitions(tau, ciphertext):\n",
    "    subtexts = []\n",
    "    for t in range(tau):\n",
    "        index = t\n",
    "        substr = \"\"\n",
    "        while index < len(ciphertext):\n",
    "            substr += ciphertext[index]\n",
    "            index += tau\n",
    "        \n",
    "        subtexts.append(substr)\n",
    "            \n",
    "    return subtexts"
   ]
  },
  {
   "cell_type": "code",
   "execution_count": 288,
   "id": "editorial-scale",
   "metadata": {},
   "outputs": [
    {
     "name": "stdout",
     "output_type": "stream",
     "text": [
      "3 0.00412847603133792\n"
     ]
    },
    {
     "data": {
      "text/plain": [
       "3"
      ]
     },
     "execution_count": 288,
     "metadata": {},
     "output_type": "execute_result"
    }
   ],
   "source": [
    "#l, sub_texts = find_l(candidates, ciphertext, letterFrequency)\n",
    "#l"
   ]
  },
  {
   "cell_type": "markdown",
   "id": "allied-notion",
   "metadata": {},
   "source": [
    "Ahora lo que resta es encontrar el shift que produce cada caracter del key, para asi descubrir el key, para eso es necesario contar con una forma de medir la diferencia en frecuencia de una forma más minuciosa, lo que se puede hacer con algo más parecido a el enunciado, lo que me lleva a pensar que quizas esto es a lo que se referian.\n",
    "Con esto en mente cambio lo que había asignado al abs antes por la nueva que escribo a continuacion"
   ]
  },
  {
   "cell_type": "code",
   "execution_count": 289,
   "id": "confidential-florida",
   "metadata": {},
   "outputs": [],
   "source": [
    "def abs_distance(string : str, frequencies: {str: float}) -> float:\n",
    "    return sum([abs(frequencies[c] - string.count(c) / len(string)) for c in frequencies])"
   ]
  },
  {
   "cell_type": "code",
   "execution_count": 291,
   "id": "emerging-joshua",
   "metadata": {},
   "outputs": [],
   "source": [
    "def find_k(l, sub_texts, frequencies):\n",
    "    calc_key = \"\"\n",
    "    alp = sorted(frequencies.keys())\n",
    "    N = len(alp)\n",
    "    char_to_nums = {i[1]: i[0] for i in enumerate(alp)}\n",
    "    num_to_chars = {i[0]: i[1] for i in enumerate(alp)}\n",
    "    \n",
    "    for text in sub_texts:\n",
    "        # Lo primero es encontrar un diccionario de las frecuencias y buscar que cada una de los\n",
    "        # caracteres se asemeje a la frecuencia del idioma\n",
    "        new_freq = {}\n",
    "    \n",
    "        for c in text:\n",
    "            if c not in new_freq.keys():\n",
    "                new_freq[c] = text.count(c) / len(text)\n",
    "                \n",
    "        # teniendo la nueva frecuencia puedo comparar al agregarle un shift incremental\n",
    "        min_distance = float(\"inf\")\n",
    "        k_i = \"\"\n",
    "        for shift in range(N):\n",
    "            new_string = \"\".join([num_to_chars[(char_to_nums[c] - shift)%N] for c in text])\n",
    "            dist = abs_distance(new_string, frequencies)\n",
    "            if dist < min_distance:\n",
    "                min_distance = dist\n",
    "                k_i = num_to_chars[shift]\n",
    "        calc_key += k_i\n",
    "        \n",
    "    return calc_key"
   ]
  },
  {
   "cell_type": "code",
   "execution_count": 292,
   "id": "august-collectible",
   "metadata": {},
   "outputs": [
    {
     "data": {
      "text/plain": [
       "'KEY'"
      ]
     },
     "execution_count": 292,
     "metadata": {},
     "output_type": "execute_result"
    }
   ],
   "source": [
    "# find_k(l, sub_texts, letterFrequency)"
   ]
  },
  {
   "cell_type": "markdown",
   "id": "verified-prerequisite",
   "metadata": {},
   "source": [
    "Para estar seguro que no es una coincidencia hago otra prueba con otra key"
   ]
  },
  {
   "cell_type": "code",
   "execution_count": 293,
   "id": "honey-likelihood",
   "metadata": {},
   "outputs": [
    {
     "name": "stdout",
     "output_type": "stream",
     "text": [
      "[4, 14]\n",
      "4 0.019510305463647352\n",
      "14 0.011943981019800034\n"
     ]
    },
    {
     "data": {
      "text/plain": [
       "'KJOFANJPGEBAIU'"
      ]
     },
     "execution_count": 293,
     "metadata": {},
     "output_type": "execute_result"
    }
   ],
   "source": [
    "key = \"KJOFANJPGEBAIU\"\n",
    "ciphertext = enc(key, message)\n",
    "patterns = find_pattern(ciphertext)\n",
    "candidates = find_candidates(patterns, ciphertext)\n",
    "l, sub_texts = find_l(candidates, ciphertext, letterFrequency)\n",
    "find_k(l, sub_texts, letterFrequency)"
   ]
  },
  {
   "cell_type": "markdown",
   "id": "legal-impression",
   "metadata": {},
   "source": [
    "# Definicion de funcion pedida"
   ]
  },
  {
   "cell_type": "code",
   "execution_count": 294,
   "id": "innocent-boards",
   "metadata": {},
   "outputs": [],
   "source": [
    "def break_rp(ciphertext: str, frequencies: {str: float}, distance) -> str:\n",
    "    \n",
    "    def find_k(l, sub_texts, frequencies):\n",
    "        calc_key = \"\"\n",
    "        alp = sorted(frequencies.keys())\n",
    "        N = len(alp)\n",
    "        char_to_nums = {i[1]: i[0] for i in enumerate(alp)}\n",
    "        num_to_chars = {i[0]: i[1] for i in enumerate(alp)}\n",
    "    \n",
    "        for text in sub_texts:\n",
    "            # Lo primero es encontrar un diccionario de las frecuencias y buscar que cada una de los\n",
    "            # caracteres se asemeje a la frecuencia del idioma\n",
    "            new_freq = {}\n",
    "    \n",
    "            for c in text:\n",
    "                if c not in new_freq.keys():\n",
    "                    new_freq[c] = text.count(c) / len(text)\n",
    "                \n",
    "            # teniendo la nueva frecuencia puedo comparar al agregarle un shift incremental\n",
    "            min_distance = float(\"inf\")\n",
    "            k_i = \"\"\n",
    "            for shift in range(N):\n",
    "                new_string = \"\".join([num_to_chars[(char_to_nums[c] - shift)%N] for c in text])\n",
    "                dist = distance(new_string, frequencies)\n",
    "                \n",
    "                if dist < min_distance:\n",
    "                    min_distance = dist\n",
    "                    k_i = num_to_chars[shift]\n",
    "            calc_key += k_i\n",
    "        \n",
    "        return calc_key\n",
    "    \n",
    "    # El resto de las funciones queda definido por fuera\n",
    "    patterns = find_pattern(ciphertext)\n",
    "    candidates = find_candidates(patterns, ciphertext)\n",
    "    l, sub_texts = find_l(candidates, ciphertext, frequencies)\n",
    "    \n",
    "    return find_k(l, sub_texts, frequencies)\n",
    "    "
   ]
  },
  {
   "cell_type": "code",
   "execution_count": 298,
   "id": "duplicate-spokesman",
   "metadata": {},
   "outputs": [
    {
     "data": {
      "text/plain": [
       "'KJOFANJPGEBAIU'"
      ]
     },
     "execution_count": 298,
     "metadata": {},
     "output_type": "execute_result"
    }
   ],
   "source": [
    "# break_rp(ciphertext, letterFrequency, abs_distance)"
   ]
  },
  {
   "cell_type": "markdown",
   "id": "aquatic-prerequisite",
   "metadata": {},
   "source": [
    "Para probar cuando funciona itero y pruebo con llaves al azar:"
   ]
  },
  {
   "cell_type": "code",
   "execution_count": 305,
   "id": "registered-variance",
   "metadata": {},
   "outputs": [
    {
     "name": "stdout",
     "output_type": "stream",
     "text": [
      "0.763\n"
     ]
    }
   ],
   "source": [
    "if __name__ == \"__main__\": \n",
    "    import random\n",
    "    import string\n",
    "    hit = 0\n",
    "    letters = string.ascii_uppercase\n",
    "\n",
    "    for i in range(1000):\n",
    "        length = random.randint(3, 25)\n",
    "        key = ''.join([random.choice(letters) for i in range(length)])\n",
    "    \n",
    "        ciphertext = enc(key, message)\n",
    "        found_key = break_rp(ciphertext, letterFrequency, abs_distance)\n",
    "    \n",
    "        if key == found_key:\n",
    "            hit += 1\n",
    "        \n",
    "    print(hit/1000)"
   ]
  }
 ],
 "metadata": {
  "kernelspec": {
   "display_name": "Python 3",
   "language": "python",
   "name": "python3"
  },
  "language_info": {
   "codemirror_mode": {
    "name": "ipython",
    "version": 3
   },
   "file_extension": ".py",
   "mimetype": "text/x-python",
   "name": "python",
   "nbconvert_exporter": "python",
   "pygments_lexer": "ipython3",
   "version": "3.9.7"
  }
 },
 "nbformat": 4,
 "nbformat_minor": 5
}
