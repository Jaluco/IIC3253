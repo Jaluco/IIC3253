{
 "cells": [
  {
   "cell_type": "code",
   "execution_count": 2,
   "id": "ecological-mouse",
   "metadata": {},
   "outputs": [],
   "source": [
    "import hashlib\n",
    "\n",
    "class MerkleTree:\n",
    "    \n",
    "    def __init__(self, strings, hash_func):\n",
    "        self.hash = hash_func\n",
    "        self.build_tree(strings, hash_func)\n",
    "    \n",
    "    def build_tree(self, strings, has_func):\n",
    "        leaves = [Node(None, None, hash_func(e)) for e in strings]\n",
    "        self.leaves = leaves\n",
    "        \n",
    "        if len(leaves)%2 == 1:\n",
    "            leaves.append(leaves[-1]) # duplica el ultimo si son impares\n",
    "            \n",
    "        self.root = self.build_tree_rec(leaves)\n",
    "        \n",
    "    def build_tree_rec(self, nodes):\n",
    "        half = len(nodes)//2\n",
    "        \n",
    "        # Si son dos se retorna el arbol chiquito\n",
    "        if len(nodes) == 2:\n",
    "            return Node(nodes[0], nodes[1], self.hash(nodes[0].value + nodes[1].value))\n",
    "        \n",
    "        left = self.build_tree_rec(nodes[half:])\n",
    "        right = self.build_tree_rec(nodes[:half])\n",
    "        \n",
    "        value = self.hash(left.value + right.value)\n",
    "        \n",
    "        return Node(left, right, value)\n",
    "    \n",
    "    def get_root(self):\n",
    "        return self.root\n",
    "    \n",
    "    def get_proof_for(self, item):\n",
    "        pass\n",
    "    \n",
    "class Node:\n",
    "    \n",
    "    def __init(self, left, right, value):\n",
    "        self.left = left\n",
    "        self.right = right\n",
    "        self.value = value\n",
    "        \n",
    "    def __str__(self):\n",
    "        return str(self.value)\n",
    "        \n",
    "    "
   ]
  }
 ],
 "metadata": {
  "kernelspec": {
   "display_name": "Python 3",
   "language": "python",
   "name": "python3"
  },
  "language_info": {
   "codemirror_mode": {
    "name": "ipython",
    "version": 3
   },
   "file_extension": ".py",
   "mimetype": "text/x-python",
   "name": "python",
   "nbconvert_exporter": "python",
   "pygments_lexer": "ipython3",
   "version": "3.9.7"
  }
 },
 "nbformat": 4,
 "nbformat_minor": 5
}
